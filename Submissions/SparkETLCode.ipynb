{
 "cells": [
  {
   "cell_type": "markdown",
   "metadata": {},
   "source": [
    "# Initialize Spark"
   ]
  },
  {
   "cell_type": "code",
   "execution_count": 1,
   "metadata": {},
   "outputs": [
    {
     "name": "stderr",
     "output_type": "stream",
     "text": [
      "Setting default log level to \"WARN\".\n",
      "To adjust logging level use sc.setLogLevel(newLevel). For SparkR, use setLogLevel(newLevel).\n",
      "23/08/07 00:20:00 WARN NativeCodeLoader: Unable to load native-hadoop library for your platform... using builtin-java classes where applicable\n",
      "23/08/07 00:20:00 WARN Utils: Service 'SparkUI' could not bind on port 4040. Attempting port 4041.\n"
     ]
    }
   ],
   "source": [
    "from pyspark.sql import SparkSession\n",
    "import warnings\n",
    "warnings.filterwarnings('ignore')\n",
    "spark=SparkSession.builder.appName('ETL Project').getOrCreate()\n",
    "spark.sparkContext.setLogLevel(\"ERROR\")"
   ]
  },
  {
   "cell_type": "code",
   "execution_count": 2,
   "metadata": {},
   "outputs": [
    {
     "data": {
      "text/html": [
       "\n",
       "            <div>\n",
       "                <p><b>SparkSession - in-memory</b></p>\n",
       "                \n",
       "        <div>\n",
       "            <p><b>SparkContext</b></p>\n",
       "\n",
       "            <p><a href=\"http://192.168.1.104:4041\">Spark UI</a></p>\n",
       "\n",
       "            <dl>\n",
       "              <dt>Version</dt>\n",
       "                <dd><code>v3.4.1</code></dd>\n",
       "              <dt>Master</dt>\n",
       "                <dd><code>local[*]</code></dd>\n",
       "              <dt>AppName</dt>\n",
       "                <dd><code>ETL Project</code></dd>\n",
       "            </dl>\n",
       "        </div>\n",
       "        \n",
       "            </div>\n",
       "        "
      ],
      "text/plain": [
       "<pyspark.sql.session.SparkSession at 0x10d443550>"
      ]
     },
     "execution_count": 2,
     "metadata": {},
     "output_type": "execute_result"
    }
   ],
   "source": [
    "spark"
   ]
  },
  {
   "cell_type": "code",
   "execution_count": 3,
   "metadata": {},
   "outputs": [],
   "source": [
    "from pyspark.sql.types import StructType, StructField, IntegerType, StringType, FloatType\n",
    "from pyspark.sql.window import Window\n",
    "import pyspark.sql.functions as f"
   ]
  },
  {
   "cell_type": "markdown",
   "metadata": {},
   "source": [
    "# Set input and O/P Paths"
   ]
  },
  {
   "cell_type": "code",
   "execution_count": 4,
   "metadata": {},
   "outputs": [],
   "source": [
    "input_data_path = \"/user/hadoop/data_extract/part*\"\n",
    "dim_date_path = \"s3://girish-722691534181/atm_data/warehouse/dim_date/\"\n",
    "dim_location_path = \"s3://girish-722691534181/atm_data/warehouse/dim_location/\"\n",
    "dim_card_type_path = \"s3://girish-722691534181/atm_data/warehouse/dim_card_type/\"\n",
    "dim_atm_path = \"s3://girish-722691534181/atm_data/warehouse/dim_atm/\"\n",
    "fact_atm_trans_path = \"s3://girish-722691534181/atm_data/warehouse/fact_atm_trans/\""
   ]
  },
  {
   "cell_type": "markdown",
   "metadata": {},
   "source": [
    "# Function to Save DF"
   ]
  },
  {
   "cell_type": "code",
   "execution_count": 5,
   "metadata": {},
   "outputs": [],
   "source": [
    "def write_to_s3(df, location):\n",
    "    # print(\"writing to parquet\")\n",
    "    # df.write.parquet(location)\n",
    "    print(f\"writing {df.count()} rows to s3(csv)\")\n",
    "    df.write.mode(\"overwrite\").csv(location)\n",
    "    print(\"write complete\")"
   ]
  },
  {
   "cell_type": "markdown",
   "metadata": {
    "tags": []
   },
   "source": [
    "## Define Schema and Read Data"
   ]
  },
  {
   "cell_type": "code",
   "execution_count": 6,
   "metadata": {},
   "outputs": [],
   "source": [
    "schema = StructType([StructField('year',IntegerType(),False),\n",
    "                     StructField('month',StringType(), False),\n",
    "                     StructField('day', IntegerType(), False),\n",
    "                     StructField('weekday', StringType(), False),\n",
    "                     StructField('hour',IntegerType(),False),\n",
    "                     StructField('atm_status',StringType(), False),\n",
    "                     StructField('atm_id', StringType(), False),\n",
    "                     StructField('atm_manufacturer', StringType(), False),\n",
    "                     StructField('atm_location', StringType(), False),\n",
    "                     StructField('atm_streetname',StringType(),False),\n",
    "                     StructField('atm_street_number', IntegerType(), False),\n",
    "                     StructField('atm_zipcode',IntegerType(), False),\n",
    "                     StructField('atm_lat', FloatType(), False),\n",
    "                     StructField('atm_lon', FloatType(), False),\n",
    "                     StructField('currency', StringType(), False),\n",
    "                     StructField('card_type',StringType(),False),\n",
    "                     StructField('transaction_amount',IntegerType(), False),\n",
    "                     StructField('service', StringType(), False),\n",
    "                     StructField('message_code', StringType(), True),\n",
    "                     StructField('message_text', StringType(), True),\n",
    "                     StructField('weather_lat',FloatType(),False),\n",
    "                     StructField('weather_lon',FloatType(), False),\n",
    "                     StructField('weather_city_id', IntegerType(), False),\n",
    "                     StructField('weather_city_name', StringType(), False),\n",
    "                     StructField('temp', FloatType(), False),\n",
    "                     StructField('pressure',IntegerType(),False),\n",
    "                     StructField('humidity',IntegerType(), False),\n",
    "                     StructField('wind_speed', IntegerType(), False),\n",
    "                     StructField('wind_deg', IntegerType(), False),\n",
    "                     StructField('rain_3h', FloatType(), True),\n",
    "                     StructField('clouds_all', IntegerType(), False),\n",
    "                     StructField('weather_id', IntegerType(), False),\n",
    "                     StructField('weather_main', StringType(), False),\n",
    "                     StructField('weather_description', StringType(), False)]\n",
    "                     )"
   ]
  },
  {
   "cell_type": "code",
   "execution_count": 7,
   "metadata": {},
   "outputs": [],
   "source": [
    "df = spark.read.csv(input_data_path, header=False, schema=schema, encoding=\"utf-8\")"
   ]
  },
  {
   "cell_type": "code",
   "execution_count": 8,
   "metadata": {},
   "outputs": [
    {
     "data": {
      "text/plain": [
       "DataFrame[year: int, month: string, day: int, weekday: string, hour: int, atm_status: string, atm_id: string, atm_manufacturer: string, atm_location: string, atm_streetname: string, atm_street_number: int, atm_zipcode: int, atm_lat: float, atm_lon: float, currency: string, card_type: string, transaction_amount: int, service: string, message_code: string, message_text: string, weather_lat: float, weather_lon: float, weather_city_id: int, weather_city_name: string, temp: float, pressure: int, humidity: int, wind_speed: int, wind_deg: int, rain_3h: float, clouds_all: int, weather_id: int, weather_main: string, weather_description: string]"
      ]
     },
     "execution_count": 8,
     "metadata": {},
     "output_type": "execute_result"
    }
   ],
   "source": [
    "# Repartition and Cache Data to improve performance\n",
    "df=df.repartition(4)\n",
    "df.cache()"
   ]
  },
  {
   "cell_type": "code",
   "execution_count": 9,
   "metadata": {},
   "outputs": [
    {
     "name": "stderr",
     "output_type": "stream",
     "text": [
      "[Stage 1:>                                                          (0 + 4) / 4]\r"
     ]
    },
    {
     "name": "stdout",
     "output_type": "stream",
     "text": [
      "Input Count 2468572\n"
     ]
    },
    {
     "name": "stderr",
     "output_type": "stream",
     "text": [
      "                                                                                \r"
     ]
    }
   ],
   "source": [
    "print(f\"Input Count {df.count()}\")"
   ]
  },
  {
   "cell_type": "markdown",
   "metadata": {
    "tags": []
   },
   "source": [
    "## Create DIM_DATE"
   ]
  },
  {
   "cell_type": "code",
   "execution_count": 10,
   "metadata": {},
   "outputs": [],
   "source": [
    "dates_dim_df = df.select([\"year\",\"month\",\"day\",\"weekday\",\"hour\"]).distinct()"
   ]
  },
  {
   "cell_type": "code",
   "execution_count": 11,
   "metadata": {},
   "outputs": [],
   "source": [
    "dates_dim_df =  dates_dim_df.withColumn(\"day\",f.when(f.col(\"day\")>=10,f.col(\"day\").cast(StringType())).otherwise(f.concat(f.lit(\"0\"),\n",
    "                                                                                                         f.col(\"day\").cast(StringType()))))"
   ]
  },
  {
   "cell_type": "code",
   "execution_count": 12,
   "metadata": {},
   "outputs": [],
   "source": [
    "dates_dim_df = dates_dim_df.withColumn(\"full_date_time\",f.to_timestamp(f.concat(f.col(\"year\").cast(StringType()),f.lit(\"-\"),\n",
    "                                                                    f.col(\"month\").cast(StringType()),f.lit(\"-\"),\n",
    "                                                                     f.col(\"day\").cast(StringType()),f.lit(\" \"),\n",
    "                                                                     f.col(\"hour\").cast(StringType())),\n",
    "                                                            \"yyyy-MMMM-dd H\"))\n",
    "                             "
   ]
  },
  {
   "cell_type": "code",
   "execution_count": 13,
   "metadata": {},
   "outputs": [],
   "source": [
    "windowSpec  = Window.partitionBy().orderBy(f.col(\"full_date_time\").asc())\n",
    "dates_dim_df = dates_dim_df.withColumn(\"date_id\", f.row_number().over(windowSpec))"
   ]
  },
  {
   "cell_type": "code",
   "execution_count": 14,
   "metadata": {},
   "outputs": [],
   "source": [
    "dates_dim_df = dates_dim_df.select([\"date_id\",\"full_date_time\",\"year\",\"month\",\"day\",\"hour\",\"weekday\"])"
   ]
  },
  {
   "cell_type": "code",
   "execution_count": 15,
   "metadata": {},
   "outputs": [
    {
     "name": "stdout",
     "output_type": "stream",
     "text": [
      "dates_dim_df Count 8685\n"
     ]
    }
   ],
   "source": [
    "dates_dim_df.cache()\n",
    "print(f\"dates_dim_df Count {dates_dim_df.count()}\")"
   ]
  },
  {
   "cell_type": "code",
   "execution_count": 16,
   "metadata": {},
   "outputs": [
    {
     "name": "stdout",
     "output_type": "stream",
     "text": [
      "+-------+-------------------+----+-------+---+----+-------+\n",
      "|date_id|     full_date_time|year|  month|day|hour|weekday|\n",
      "+-------+-------------------+----+-------+---+----+-------+\n",
      "|      1|2017-01-01 00:00:00|2017|January| 01|   0| Sunday|\n",
      "|      2|2017-01-01 01:00:00|2017|January| 01|   1| Sunday|\n",
      "|      3|2017-01-01 02:00:00|2017|January| 01|   2| Sunday|\n",
      "|      4|2017-01-01 03:00:00|2017|January| 01|   3| Sunday|\n",
      "|      5|2017-01-01 04:00:00|2017|January| 01|   4| Sunday|\n",
      "|      6|2017-01-01 05:00:00|2017|January| 01|   5| Sunday|\n",
      "|      7|2017-01-01 06:00:00|2017|January| 01|   6| Sunday|\n",
      "|      8|2017-01-01 07:00:00|2017|January| 01|   7| Sunday|\n",
      "|      9|2017-01-01 08:00:00|2017|January| 01|   8| Sunday|\n",
      "|     10|2017-01-01 09:00:00|2017|January| 01|   9| Sunday|\n",
      "|     11|2017-01-01 10:00:00|2017|January| 01|  10| Sunday|\n",
      "|     12|2017-01-01 11:00:00|2017|January| 01|  11| Sunday|\n",
      "|     13|2017-01-01 12:00:00|2017|January| 01|  12| Sunday|\n",
      "|     14|2017-01-01 13:00:00|2017|January| 01|  13| Sunday|\n",
      "|     15|2017-01-01 14:00:00|2017|January| 01|  14| Sunday|\n",
      "|     16|2017-01-01 15:00:00|2017|January| 01|  15| Sunday|\n",
      "|     17|2017-01-01 16:00:00|2017|January| 01|  16| Sunday|\n",
      "|     18|2017-01-01 17:00:00|2017|January| 01|  17| Sunday|\n",
      "|     19|2017-01-01 18:00:00|2017|January| 01|  18| Sunday|\n",
      "|     20|2017-01-01 19:00:00|2017|January| 01|  19| Sunday|\n",
      "+-------+-------------------+----+-------+---+----+-------+\n",
      "only showing top 20 rows\n",
      "\n"
     ]
    }
   ],
   "source": [
    "dates_dim_df.show()"
   ]
  },
  {
   "cell_type": "markdown",
   "metadata": {
    "tags": []
   },
   "source": [
    "## Create DIM_LOCATION "
   ]
  },
  {
   "cell_type": "code",
   "execution_count": 17,
   "metadata": {},
   "outputs": [],
   "source": [
    "location_dim_df = df.select([\"atm_location\",\"atm_streetname\",\"atm_street_number\",\n",
    "                             \"atm_zipcode\",\"atm_lat\",\"atm_lon\"]).distinct()"
   ]
  },
  {
   "cell_type": "code",
   "execution_count": 18,
   "metadata": {},
   "outputs": [],
   "source": [
    "windowSpec  = Window.partitionBy().orderBy(*[f.asc(c) for c in [\"atm_location\",\"atm_streetname\",\"atm_street_number\",\n",
    "                             \"atm_zipcode\",\"atm_lat\",\"atm_lon\"]])\n",
    "location_dim_df = location_dim_df.withColumn(\"location_id\", f.row_number().over(windowSpec))\n",
    "location_dim_df = location_dim_df.withColumnRenamed(\"atm_location\",\"location\")\n",
    "location_dim_df = location_dim_df.withColumnRenamed(\"atm_streetname\",\"streetname\")\n",
    "location_dim_df = location_dim_df.withColumnRenamed(\"atm_street_number\",\"street_number\")\n",
    "location_dim_df = location_dim_df.withColumnRenamed(\"atm_zipcode\",\"zipcode\")\n",
    "location_dim_df = location_dim_df.withColumnRenamed(\"atm_lat\",\"lat\")\n",
    "location_dim_df = location_dim_df.withColumnRenamed(\"atm_lon\",\"lon\")"
   ]
  },
  {
   "cell_type": "code",
   "execution_count": 19,
   "metadata": {},
   "outputs": [],
   "source": [
    "location_dim_df = location_dim_df.select([\"location_id\",\"location\",\"streetname\",\n",
    "                                          \"street_number\",\"zipcode\",\"lat\",\"lon\"])"
   ]
  },
  {
   "cell_type": "code",
   "execution_count": 20,
   "metadata": {
    "tags": []
   },
   "outputs": [
    {
     "name": "stdout",
     "output_type": "stream",
     "text": [
      "location_dim_df Count 109\n"
     ]
    }
   ],
   "source": [
    "print(f\"location_dim_df Count {location_dim_df.count()}\")"
   ]
  },
  {
   "cell_type": "code",
   "execution_count": 21,
   "metadata": {},
   "outputs": [
    {
     "name": "stdout",
     "output_type": "stream",
     "text": [
      "+-----------+--------------------+------------------+-------------+-------+------+------+\n",
      "|location_id|            location|        streetname|street_number|zipcode|   lat|   lon|\n",
      "+-----------+--------------------+------------------+-------------+-------+------+------+\n",
      "|          1|             Aabybro|      ÃƒËœstergade|            6|   9440|57.162|  9.73|\n",
      "|          2|      Aalborg Hallen|      Europa Plads|            4|   9000|57.044| 9.913|\n",
      "|          3|Aalborg Storcente...|          Hobrovej|          452|   9200|57.005| 9.876|\n",
      "|          4|Aalborg Storcente...|          Hobrovej|          452|   9200|57.005| 9.876|\n",
      "|          5|         Aalborg Syd|          Hobrovej|          440|   9200|57.005| 9.881|\n",
      "|          6|           AalbÃƒÂ¦k|        Centralvej|            5|   9982|57.593|10.412|\n",
      "|          7|              Aarhus|        Ceres Byen|           75|   8000|56.157|10.194|\n",
      "|          8|              Aarhus|    SÃƒÂ¸nder Alle|           11|   8000|56.153|10.206|\n",
      "|          9|     Aarhus Lufthavn|   Ny Lufthavnsvej|           24|   8560|56.308|10.627|\n",
      "|         10|                Aars|   Himmerlandsgade|           70|   9600|56.803| 9.518|\n",
      "|         11|          Abildgaard|    HjÃƒÂ¸rringvej|          144|   9900|57.447|10.506|\n",
      "|         12|               Arden|        Vestergade|            6|   9510|56.769| 9.859|\n",
      "|         13|            Bindslev|       NÃƒÂ¸rrebro|           18|   9881|57.541|  10.2|\n",
      "|         14|         Bispensgade|       Bispensgade|           35|   9800|57.453| 9.996|\n",
      "|         15|         Brugsen ANS|SÃƒÂ¸ndermarksgade|           14|   8643|56.306| 9.594|\n",
      "|         16|     Brugsen i Breum|     AakjÃƒÂ¦rsvej|            1|   7870|56.688| 9.069|\n",
      "|         17|      Bryggen  Vejle|  SÃƒÂ¸nderbrogade|            2|   7100|55.705| 9.532|\n",
      "|         18|      BrÃƒÂ¸nderslev|            Algade|            4|   9700|57.269| 9.945|\n",
      "|         19|    DAYZ Feriecenter|        LivÃƒÂ¸vej|           80|   9681|56.893| 9.171|\n",
      "|         20|Daglig Brugsen Ãƒ...|         Kystvejen|           51|   9560|56.804|10.271|\n",
      "+-----------+--------------------+------------------+-------------+-------+------+------+\n",
      "only showing top 20 rows\n",
      "\n"
     ]
    }
   ],
   "source": [
    "location_dim_df.show()"
   ]
  },
  {
   "cell_type": "markdown",
   "metadata": {
    "tags": []
   },
   "source": [
    "## Create DIM_CARD_TYPE"
   ]
  },
  {
   "cell_type": "code",
   "execution_count": 22,
   "metadata": {},
   "outputs": [],
   "source": [
    "card_type_dim_df = df.select([\"card_type\"]).distinct()\n",
    "windowSpec  = Window.partitionBy().orderBy(f.col(\"card_type\").asc())\n",
    "card_type_dim_df = card_type_dim_df.withColumn(\"card_type_id\", f.row_number().over(windowSpec))\n",
    "card_type_dim_df = card_type_dim_df.select([\"card_type_id\",\"card_type\"])"
   ]
  },
  {
   "cell_type": "code",
   "execution_count": 23,
   "metadata": {},
   "outputs": [
    {
     "name": "stdout",
     "output_type": "stream",
     "text": [
      "card_type_dim_df Count 12\n"
     ]
    }
   ],
   "source": [
    "card_type_dim_df.cache()\n",
    "print(f\"card_type_dim_df Count {card_type_dim_df.count()}\")"
   ]
  },
  {
   "cell_type": "code",
   "execution_count": 24,
   "metadata": {},
   "outputs": [
    {
     "name": "stdout",
     "output_type": "stream",
     "text": [
      "+------------+--------------------+\n",
      "|card_type_id|           card_type|\n",
      "+------------+--------------------+\n",
      "|           1|              CIRRUS|\n",
      "|           2|             Dankort|\n",
      "|           3|     Dankort - on-us|\n",
      "|           4|         HÃƒÂ¦vekort|\n",
      "|           5| HÃƒÂ¦vekort - on-us|\n",
      "|           6|             Maestro|\n",
      "|           7|          MasterCard|\n",
      "|           8|  Mastercard - on-us|\n",
      "|           9|                VISA|\n",
      "|          10|        Visa Dankort|\n",
      "|          11|Visa Dankort - on-us|\n",
      "|          12|            VisaPlus|\n",
      "+------------+--------------------+\n",
      "\n"
     ]
    }
   ],
   "source": [
    "card_type_dim_df.show()"
   ]
  },
  {
   "cell_type": "markdown",
   "metadata": {
    "tags": []
   },
   "source": [
    "## Create DIM_ATM"
   ]
  },
  {
   "cell_type": "code",
   "execution_count": 25,
   "metadata": {},
   "outputs": [],
   "source": [
    "atm_dim_df = df.select([\"atm_id\",\"atm_manufacturer\",\"atm_location\",\"atm_streetname\",\"atm_street_number\",\n",
    "                             \"atm_zipcode\",\"atm_lat\",\"atm_lon\"]).distinct()"
   ]
  },
  {
   "cell_type": "code",
   "execution_count": 26,
   "metadata": {},
   "outputs": [
    {
     "name": "stderr",
     "output_type": "stream",
     "text": [
      "                                                                                \r"
     ]
    },
    {
     "data": {
      "text/plain": [
       "113"
      ]
     },
     "execution_count": 26,
     "metadata": {},
     "output_type": "execute_result"
    }
   ],
   "source": [
    "atm_dim_df.count()"
   ]
  },
  {
   "cell_type": "code",
   "execution_count": 27,
   "metadata": {},
   "outputs": [],
   "source": [
    "atm_dim_df = atm_dim_df.withColumnRenamed(\"atm_id\",\"atm_number\")\n",
    "\n",
    "# rename cols to match location_dim_df\n",
    "atm_dim_df = atm_dim_df.withColumnRenamed(\"atm_location\",\"location\")\n",
    "atm_dim_df = atm_dim_df.withColumnRenamed(\"atm_streetname\",\"streetname\")\n",
    "atm_dim_df = atm_dim_df.withColumnRenamed(\"atm_street_number\",\"street_number\")\n",
    "atm_dim_df = atm_dim_df.withColumnRenamed(\"atm_zipcode\",\"zipcode\")\n",
    "atm_dim_df = atm_dim_df.withColumnRenamed(\"atm_lat\",\"lat\")\n",
    "atm_dim_df = atm_dim_df.withColumnRenamed(\"atm_lon\",\"lon\")"
   ]
  },
  {
   "cell_type": "code",
   "execution_count": 28,
   "metadata": {},
   "outputs": [],
   "source": [
    "# Join with location_dim_df\n",
    "atm_dim_df = atm_dim_df.join(location_dim_df,[\"location\",\"streetname\",\"street_number\",\n",
    "                             \"zipcode\",\"lat\",\"lon\"],\"inner\")"
   ]
  },
  {
   "cell_type": "code",
   "execution_count": 29,
   "metadata": {},
   "outputs": [],
   "source": [
    "# Drop cols used for join, as location_id represents all the other dropped cols\n",
    "atm_dim_df = atm_dim_df.drop(*[\"location\",\"streetname\",\"street_number\",\n",
    "                             \"zipcode\",\"lat\",\"lon\"])"
   ]
  },
  {
   "cell_type": "code",
   "execution_count": 30,
   "metadata": {},
   "outputs": [],
   "source": [
    "atm_dim_df = atm_dim_df.withColumnRenamed(\"location_id\",\"atm_location_id\")"
   ]
  },
  {
   "cell_type": "code",
   "execution_count": 31,
   "metadata": {},
   "outputs": [],
   "source": [
    "# Create Primary key\n",
    "windowSpec  = Window.partitionBy().orderBy(*[f.asc(\"atm_number\"),\n",
    "                                             f.asc(\"atm_manufacturer\"),\n",
    "                                             f.asc(\"atm_location_id\")])\n",
    "atm_dim_df = atm_dim_df.withColumn(\"atm_id\", f.row_number().over(windowSpec))"
   ]
  },
  {
   "cell_type": "code",
   "execution_count": 32,
   "metadata": {},
   "outputs": [],
   "source": [
    "atm_dim_df = atm_dim_df.select([\"atm_id\",\"atm_number\",\"atm_manufacturer\",\"atm_location_id\"])"
   ]
  },
  {
   "cell_type": "code",
   "execution_count": 33,
   "metadata": {},
   "outputs": [
    {
     "name": "stdout",
     "output_type": "stream",
     "text": [
      "+------+----------+----------------+---------------+\n",
      "|atm_id|atm_number|atm_manufacturer|atm_location_id|\n",
      "+------+----------+----------------+---------------+\n",
      "|     1|         1|             NCR|             75|\n",
      "|     2|        10|             NCR|             76|\n",
      "|     3|       100|             NCR|             56|\n",
      "|     4|       101|             NCR|             17|\n",
      "|     5|       102|             NCR|              3|\n",
      "|     6|       103| Diebold Nixdorf|            103|\n",
      "|     7|       104|             NCR|             58|\n",
      "|     8|       105| Diebold Nixdorf|             76|\n",
      "|     9|       106|             NCR|             55|\n",
      "|    10|       107| Diebold Nixdorf|             62|\n",
      "|    11|       108|             NCR|             47|\n",
      "|    12|       109| Diebold Nixdorf|              5|\n",
      "|    13|        11|             NCR|             80|\n",
      "|    14|       110| Diebold Nixdorf|             41|\n",
      "|    15|       111| Diebold Nixdorf|              7|\n",
      "|    16|       112| Diebold Nixdorf|             74|\n",
      "|    17|       113| Diebold Nixdorf|             89|\n",
      "|    18|        12|             NCR|            108|\n",
      "|    19|        13|             NCR|             97|\n",
      "|    20|        14|             NCR|             46|\n",
      "+------+----------+----------------+---------------+\n",
      "only showing top 20 rows\n",
      "\n"
     ]
    }
   ],
   "source": [
    "atm_dim_df.show()"
   ]
  },
  {
   "cell_type": "code",
   "execution_count": 34,
   "metadata": {},
   "outputs": [
    {
     "name": "stdout",
     "output_type": "stream",
     "text": [
      "atm_dim_df Count 113\n"
     ]
    }
   ],
   "source": [
    "print(f\"atm_dim_df Count {atm_dim_df.count()}\")"
   ]
  },
  {
   "cell_type": "markdown",
   "metadata": {},
   "source": [
    "## Create FACT_ATM_TRANS"
   ]
  },
  {
   "cell_type": "code",
   "execution_count": 35,
   "metadata": {},
   "outputs": [],
   "source": [
    "fact_atm_trans_df = df"
   ]
  },
  {
   "cell_type": "code",
   "execution_count": 36,
   "metadata": {},
   "outputs": [],
   "source": [
    "dim_loc_cols = [\"location\",\"streetname\",\"street_number\", \"zipcode\",\"lat\",\"lon\"]\n",
    "dim_atm_cols = [\"atm_number\",\"atm_manufacturer\",\"atm_location_id\"]"
   ]
  },
  {
   "cell_type": "code",
   "execution_count": 37,
   "metadata": {},
   "outputs": [],
   "source": [
    "date_cols = [\"year\",\"month\",\"day\",\"weekday\",\"hour\"]\n",
    "atm_location_cols = [\"atm_location\",\"atm_streetname\",\"atm_street_number\",\"atm_zipcode\",\"atm_lat\",\"atm_lon\"]\n",
    "atm_details_cols = [\"atm_id\",\"atm_manufacturer\"]\n",
    "weather_cols = [\"weather_city_name\",\"weather_lat\",\"weather_lon\",\"weather_city_id\"]"
   ]
  },
  {
   "cell_type": "markdown",
   "metadata": {
    "tags": []
   },
   "source": [
    "### Join with Dim Date to get \"date_id\""
   ]
  },
  {
   "cell_type": "code",
   "execution_count": 38,
   "metadata": {},
   "outputs": [],
   "source": [
    "fact_atm_trans_df = fact_atm_trans_df.join(dates_dim_df,date_cols,\"inner\")"
   ]
  },
  {
   "cell_type": "code",
   "execution_count": 39,
   "metadata": {},
   "outputs": [],
   "source": [
    "fact_atm_trans_df = fact_atm_trans_df.drop(*date_cols)"
   ]
  },
  {
   "cell_type": "code",
   "execution_count": 40,
   "metadata": {},
   "outputs": [
    {
     "name": "stdout",
     "output_type": "stream",
     "text": [
      "facts Count after joining with date Count 2468572\n"
     ]
    }
   ],
   "source": [
    "print(f\"facts Count after joining with date Count {fact_atm_trans_df.count()}\")"
   ]
  },
  {
   "cell_type": "markdown",
   "metadata": {
    "tags": []
   },
   "source": [
    "### Join with Dim Location to get \"weather_loc_id\""
   ]
  },
  {
   "cell_type": "code",
   "execution_count": 41,
   "metadata": {},
   "outputs": [],
   "source": [
    "fact_atm_trans_df = fact_atm_trans_df.join(location_dim_df,\n",
    "                                           (fact_atm_trans_df[\"weather_city_name\"]==location_dim_df[\"location\"]) &\n",
    "                                           (fact_atm_trans_df[\"weather_lat\"]==location_dim_df[\"lat\"]) &\n",
    "                                           (fact_atm_trans_df[\"weather_lon\"]==location_dim_df[\"lon\"]),\"left\")"
   ]
  },
  {
   "cell_type": "code",
   "execution_count": 42,
   "metadata": {},
   "outputs": [],
   "source": [
    "fact_atm_trans_df = fact_atm_trans_df.drop(*weather_cols)\n",
    "fact_atm_trans_df = fact_atm_trans_df.drop(*dim_loc_cols)\n",
    "fact_atm_trans_df = fact_atm_trans_df.withColumnRenamed(\"location_id\",\"weather_loc_id\")"
   ]
  },
  {
   "cell_type": "code",
   "execution_count": 43,
   "metadata": {},
   "outputs": [
    {
     "name": "stderr",
     "output_type": "stream",
     "text": [
      "                                                                                \r"
     ]
    },
    {
     "name": "stdout",
     "output_type": "stream",
     "text": [
      "facts Count after joining with dim_location Count 2468572\n"
     ]
    }
   ],
   "source": [
    "print(f\"facts Count after joining with dim_location Count {fact_atm_trans_df.count()}\")"
   ]
  },
  {
   "cell_type": "markdown",
   "metadata": {},
   "source": [
    "### Join with Dim Location and Dim ATM to get \"atm_id\""
   ]
  },
  {
   "cell_type": "code",
   "execution_count": 44,
   "metadata": {},
   "outputs": [
    {
     "name": "stdout",
     "output_type": "stream",
     "text": [
      "atm_loc_df Count 113\n"
     ]
    }
   ],
   "source": [
    "atm_loc_df = atm_dim_df.join(location_dim_df,atm_dim_df[\"atm_location_id\"]==location_dim_df[\"location_id\"],\"inner\")\n",
    "print(f\"atm_loc_df Count {atm_loc_df.count()}\")"
   ]
  },
  {
   "cell_type": "code",
   "execution_count": 45,
   "metadata": {},
   "outputs": [],
   "source": [
    "fact_atm_trans_df = fact_atm_trans_df.withColumnRenamed(\"atm_id\",\"atm_number\")\n",
    "fact_atm_trans_df = fact_atm_trans_df.join(atm_loc_df,\n",
    "                                           (fact_atm_trans_df[\"atm_location\"]==atm_loc_df[\"location\"]) & \n",
    "                                           (fact_atm_trans_df[\"atm_streetname\"]==atm_loc_df[\"streetname\"]) &\n",
    "                                           (fact_atm_trans_df[\"atm_street_number\"]==atm_loc_df[\"street_number\"]) & \n",
    "                                           (fact_atm_trans_df[\"atm_zipcode\"]==atm_loc_df[\"zipcode\"]) &\n",
    "                                           (fact_atm_trans_df[\"atm_lat\"]==atm_loc_df[\"lat\"]) &\n",
    "                                           (fact_atm_trans_df[\"atm_lon\"]==atm_loc_df[\"lon\"]) &\n",
    "                                           (fact_atm_trans_df[\"atm_number\"]==atm_loc_df[\"atm_number\"]) &\n",
    "                                           (fact_atm_trans_df[\"atm_manufacturer\"]==atm_loc_df[\"atm_manufacturer\"]),\n",
    "                                          \"inner\")"
   ]
  },
  {
   "cell_type": "code",
   "execution_count": 46,
   "metadata": {},
   "outputs": [
    {
     "name": "stderr",
     "output_type": "stream",
     "text": [
      "                                                                                \r"
     ]
    },
    {
     "name": "stdout",
     "output_type": "stream",
     "text": [
      "facts Count after joining with atm_loc_df 2468572\n"
     ]
    }
   ],
   "source": [
    "print(f\"facts Count after joining with atm_loc_df {fact_atm_trans_df.count()}\")"
   ]
  },
  {
   "cell_type": "markdown",
   "metadata": {},
   "source": [
    "### Join with Dim Card Type to get card_type_id"
   ]
  },
  {
   "cell_type": "code",
   "execution_count": 47,
   "metadata": {},
   "outputs": [
    {
     "name": "stdout",
     "output_type": "stream",
     "text": [
      "facts Count after joining with dim_card_type 2468572\n"
     ]
    }
   ],
   "source": [
    "fact_atm_trans_df = fact_atm_trans_df.join(card_type_dim_df,[\"card_type\"],\"inner\")\n",
    "fact_atm_trans_df = fact_atm_trans_df.drop(*[\"card_type\"])\n",
    "print(f\"facts Count after joining with dim_card_type {fact_atm_trans_df.count()}\")"
   ]
  },
  {
   "cell_type": "code",
   "execution_count": 48,
   "metadata": {},
   "outputs": [
    {
     "data": {
      "text/plain": [
       "39"
      ]
     },
     "execution_count": 48,
     "metadata": {},
     "output_type": "execute_result"
    }
   ],
   "source": [
    "len(fact_atm_trans_df.columns)"
   ]
  },
  {
   "cell_type": "code",
   "execution_count": 49,
   "metadata": {},
   "outputs": [
    {
     "data": {
      "text/plain": [
       "['atm_status',\n",
       " 'atm_number',\n",
       " 'atm_manufacturer',\n",
       " 'atm_location',\n",
       " 'atm_streetname',\n",
       " 'atm_street_number',\n",
       " 'atm_zipcode',\n",
       " 'atm_lat',\n",
       " 'atm_lon',\n",
       " 'currency',\n",
       " 'transaction_amount',\n",
       " 'service',\n",
       " 'message_code',\n",
       " 'message_text',\n",
       " 'temp',\n",
       " 'pressure',\n",
       " 'humidity',\n",
       " 'wind_speed',\n",
       " 'wind_deg',\n",
       " 'rain_3h',\n",
       " 'clouds_all',\n",
       " 'weather_id',\n",
       " 'weather_main',\n",
       " 'weather_description',\n",
       " 'date_id',\n",
       " 'full_date_time',\n",
       " 'weather_loc_id',\n",
       " 'atm_id',\n",
       " 'atm_number',\n",
       " 'atm_manufacturer',\n",
       " 'atm_location_id',\n",
       " 'location_id',\n",
       " 'location',\n",
       " 'streetname',\n",
       " 'street_number',\n",
       " 'zipcode',\n",
       " 'lat',\n",
       " 'lon',\n",
       " 'card_type_id']"
      ]
     },
     "execution_count": 49,
     "metadata": {},
     "output_type": "execute_result"
    }
   ],
   "source": [
    "fact_atm_trans_df.columns"
   ]
  },
  {
   "cell_type": "code",
   "execution_count": 50,
   "metadata": {},
   "outputs": [],
   "source": [
    "fact_cols = [\"trans_id\",\"atm_id\",\"weather_loc_id\",\"date_id\",\"card_type_id\",\n",
    "             \"atm_status\",\"currency\",\"service\",\"transaction_amount\",\"message_code\",\n",
    "            \"message_text\",\"rain_3h\",\"clouds_all\",\"weather_id\",\n",
    "            \"weather_main\",\"weather_description\"]"
   ]
  },
  {
   "cell_type": "code",
   "execution_count": 51,
   "metadata": {},
   "outputs": [],
   "source": [
    "windowSpec  = Window.partitionBy().orderBy(*[f.asc(c) for c in [\"atm_id\",\"weather_loc_id\",\"date_id\",\"card_type_id\",\n",
    "             \"atm_status\",\"currency\",\"service\",\"transaction_amount\",\"message_code\",\n",
    "            \"message_text\",\"rain_3h\",\"clouds_all\",\"weather_id\",\n",
    "            \"weather_main\",\"weather_description\"]])"
   ]
  },
  {
   "cell_type": "code",
   "execution_count": 52,
   "metadata": {},
   "outputs": [],
   "source": [
    "fact_atm_trans_df = fact_atm_trans_df.withColumn(\"trans_id\", f.row_number().over(windowSpec))"
   ]
  },
  {
   "cell_type": "code",
   "execution_count": 53,
   "metadata": {},
   "outputs": [],
   "source": [
    "fact_atm_trans_df = fact_atm_trans_df.select(fact_cols)"
   ]
  },
  {
   "cell_type": "code",
   "execution_count": 54,
   "metadata": {},
   "outputs": [
    {
     "name": "stderr",
     "output_type": "stream",
     "text": [
      "                                                                                \r"
     ]
    },
    {
     "name": "stdout",
     "output_type": "stream",
     "text": [
      "+--------+------+--------------+-------+------------+----------+--------+----------+------------------+------------+------------+-------+----------+----------+------------+-------------------+\n",
      "|trans_id|atm_id|weather_loc_id|date_id|card_type_id|atm_status|currency|   service|transaction_amount|message_code|message_text|rain_3h|clouds_all|weather_id|weather_main|weather_description|\n",
      "+--------+------+--------------+-------+------------+----------+--------+----------+------------------+------------+------------+-------+----------+----------+------------+-------------------+\n",
      "|       1|     1|          null|      1|           7|    Active|     DKK|Withdrawal|              5643|        null|        null|  0.215|        92|       500|        Rain|         light rain|\n",
      "|       2|     1|          null|      2|           7|    Active|     DKK|Withdrawal|              4586|        null|        null|  0.215|        92|       500|        Rain|         light rain|\n",
      "|       3|     1|          null|      2|           7|    Active|     DKK|Withdrawal|              7583|        null|        null|  0.215|        92|       500|        Rain|         light rain|\n",
      "|       4|     1|          null|      2|           7|    Active|     DKK|Withdrawal|              7598|        null|        null|  0.215|        92|       500|        Rain|         light rain|\n",
      "|       5|     1|          null|      2|           9|    Active|     DKK|Withdrawal|              1979|        null|        null|  0.215|        92|       500|        Rain|         light rain|\n",
      "|       6|     1|          null|      2|           9|    Active|     DKK|Withdrawal|              7547|        null|        null|  0.215|        92|       500|        Rain|         light rain|\n",
      "|       7|     1|          null|      2|           9|    Active|     DKK|Withdrawal|              7899|        null|        null|  0.215|        92|       500|        Rain|         light rain|\n",
      "|       8|     1|          null|      3|           7|    Active|     DKK|Withdrawal|              1979|        null|        null|  0.205|        80|       500|        Rain|         light rain|\n",
      "|       9|     1|          null|      3|           8|    Active|     DKK|Withdrawal|              3187|        null|        null|  0.205|        80|       500|        Rain|         light rain|\n",
      "|      10|     1|          null|      3|           9|    Active|     DKK|Withdrawal|              7043|        null|        null|  0.205|        80|       500|        Rain|         light rain|\n",
      "|      11|     1|          null|      3|          10|    Active|     DKK|Withdrawal|              5122|        null|        null|  0.205|        80|       500|        Rain|         light rain|\n",
      "|      12|     1|          null|      4|           8|    Active|     DKK|Withdrawal|              1073|        null|        null|  0.205|        80|       500|        Rain|         light rain|\n",
      "|      13|     1|          null|      4|           8|    Active|     DKK|Withdrawal|              3709|        null|        null|  0.205|        80|       500|        Rain|         light rain|\n",
      "|      14|     1|          null|      4|          10|    Active|     DKK|Withdrawal|              9316|        null|        null|  0.205|        80|       500|        Rain|         light rain|\n",
      "|      15|     1|          null|      6|          10|    Active|     DKK|Withdrawal|              4520|        null|        null|    0.0|        88|       701|        Mist|               mist|\n",
      "|      16|     1|          null|      6|          10|    Active|     DKK|Withdrawal|              6549|        null|        null|    0.0|        88|       701|        Mist|               mist|\n",
      "|      17|     1|          null|      7|           7|    Active|     DKK|Withdrawal|               267|        null|        null|    0.0|        88|       500|        Rain|         light rain|\n",
      "|      18|     1|          null|      7|           7|    Active|     DKK|Withdrawal|               351|        null|        null|    0.0|        88|       500|        Rain|         light rain|\n",
      "|      19|     1|          null|      7|           7|    Active|     DKK|Withdrawal|              1648|        null|        null|    0.0|        88|       500|        Rain|         light rain|\n",
      "|      20|     1|          null|      8|           7|    Active|     DKK|Withdrawal|              2457|        null|        null|    0.0|        88|       500|        Rain|         light rain|\n",
      "+--------+------+--------------+-------+------------+----------+--------+----------+------------------+------------+------------+-------+----------+----------+------------+-------------------+\n",
      "only showing top 20 rows\n",
      "\n"
     ]
    }
   ],
   "source": [
    "fact_atm_trans_df.show()"
   ]
  },
  {
   "cell_type": "markdown",
   "metadata": {},
   "source": [
    "# Save Dataframes to S3"
   ]
  },
  {
   "cell_type": "code",
   "execution_count": 55,
   "metadata": {},
   "outputs": [],
   "source": [
    "write_to_s3(dates_dim_df, dim_date_path)\n",
    "write_to_s3(location_dim_df, dim_location_path)\n",
    "write_to_s3(atm_dim_df, dim_atm_path)\n",
    "write_to_s3(card_type_dim_df, dim_card_type_path)\n",
    "write_to_s3(fact_atm_trans_df, fact_atm_trans_path)"
   ]
  },
  {
   "cell_type": "markdown",
   "metadata": {
    "tags": []
   },
   "source": [
    "# Validating input and Transformed Data"
   ]
  },
  {
   "cell_type": "code",
   "execution_count": 56,
   "metadata": {},
   "outputs": [
    {
     "name": "stdout",
     "output_type": "stream",
     "text": [
      "+-----------------------+\n",
      "|sum(transaction_amount)|\n",
      "+-----------------------+\n",
      "|            12352186559|\n",
      "+-----------------------+\n",
      "\n"
     ]
    }
   ],
   "source": [
    "df.select(f.sum(\"transaction_amount\")).show()"
   ]
  },
  {
   "cell_type": "code",
   "execution_count": 57,
   "metadata": {},
   "outputs": [
    {
     "name": "stderr",
     "output_type": "stream",
     "text": [
      "                                                                                \r"
     ]
    },
    {
     "name": "stdout",
     "output_type": "stream",
     "text": [
      "+-----------------------+\n",
      "|sum(transaction_amount)|\n",
      "+-----------------------+\n",
      "|            12352186559|\n",
      "+-----------------------+\n",
      "\n"
     ]
    }
   ],
   "source": [
    "fact_atm_trans_df.select(f.sum(\"transaction_amount\")).show()"
   ]
  },
  {
   "cell_type": "code",
   "execution_count": 60,
   "metadata": {},
   "outputs": [
    {
     "name": "stdout",
     "output_type": "stream",
     "text": [
      "+-----------+--------+----------+-------------+-------+------+----+\n",
      "|location_id|location|streetname|street_number|zipcode|   lat| lon|\n",
      "+-----------+--------+----------+-------------+-------+------+----+\n",
      "|        103|Vejgaard|Hadsundvej|           20|   9000|57.043|9.95|\n",
      "+-----------+--------+----------+-------------+-------+------+----+\n",
      "\n"
     ]
    }
   ],
   "source": [
    "location_dim_df.filter(f.col(\"location\")=='Vejgaard').show()"
   ]
  },
  {
   "cell_type": "code",
   "execution_count": 62,
   "metadata": {},
   "outputs": [
    {
     "name": "stdout",
     "output_type": "stream",
     "text": [
      "+------+----------+----------------+---------------+\n",
      "|atm_id|atm_number|atm_manufacturer|atm_location_id|\n",
      "+------+----------+----------------+---------------+\n",
      "|     6|       103| Diebold Nixdorf|            103|\n",
      "|    26|         2|             NCR|            103|\n",
      "+------+----------+----------------+---------------+\n",
      "\n"
     ]
    }
   ],
   "source": [
    "atm_dim_df.filter(f.col(\"atm_location_id\")==103).show()"
   ]
  },
  {
   "cell_type": "code",
   "execution_count": 67,
   "metadata": {},
   "outputs": [
    {
     "name": "stdout",
     "output_type": "stream",
     "text": [
      "+-------------+----------------+\n",
      "| atm_location|atm_manufacturer|\n",
      "+-------------+----------------+\n",
      "|Frederikshavn| Diebold Nixdorf|\n",
      "+-------------+----------------+\n",
      "\n"
     ]
    }
   ],
   "source": [
    "df.filter(f.col(\"atm_id\")==40).select(\"atm_location\",\"atm_manufacturer\").distinct().show()"
   ]
  },
  {
   "cell_type": "code",
   "execution_count": null,
   "metadata": {},
   "outputs": [],
   "source": []
  }
 ],
 "metadata": {
  "kernelspec": {
   "display_name": "Python 3 (ipykernel)",
   "language": "python",
   "name": "python3"
  },
  "language_info": {
   "codemirror_mode": {
    "name": "ipython",
    "version": 3
   },
   "file_extension": ".py",
   "mimetype": "text/x-python",
   "name": "python",
   "nbconvert_exporter": "python",
   "pygments_lexer": "ipython3",
   "version": "3.9.17"
  }
 },
 "nbformat": 4,
 "nbformat_minor": 4
}
